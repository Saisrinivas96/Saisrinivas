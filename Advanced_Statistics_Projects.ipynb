{
 "cells": [
  {
   "cell_type": "code",
   "execution_count": 1,
   "metadata": {},
   "outputs": [],
   "source": [
    "#import the important packages\n",
    "import pandas as pd #library used for data manipulation and analysis\n",
    "import numpy as np # library used for working with arrays.\n",
    "import matplotlib.pyplot as plt # library for plots and visualisations\n",
    "import seaborn as sns # library for visualisations\n",
    "%matplotlib inline \n",
    "\n",
    "import scipy.stats as stats # this library contains a large number of probability distributions as well as a growing library of statistical functions.\n",
    "from statsmodels.formula.api import ols      # For n-way ANOVA\n",
    "from statsmodels.stats.anova import _get_covariance,anova_lm # For n-way ANOVA"
   ]
  },
  {
   "cell_type": "markdown",
   "metadata": {},
   "source": [
    "# 1. A physiotherapist with a male football team is interested in studying the relationship between foot injuries and the positions at which the players play from the data collected"
   ]
  },
  {
   "cell_type": "markdown",
   "metadata": {},
   "source": [
    "## 1.1 What is the probability that a randomly chosen player would suffer an injury?"
   ]
  },
  {
   "cell_type": "code",
   "execution_count": 2,
   "metadata": {},
   "outputs": [
    {
     "name": "stdout",
     "output_type": "stream",
     "text": [
      "Probability that a randomly chosen player would suffer an injury =  0.62\n"
     ]
    }
   ],
   "source": [
    "Total_injured = 145\n",
    "Total_players = 235\n",
    "P_injury = Total_injured/Total_players\n",
    "print('Probability that a randomly chosen player would suffer an injury = ', round(P_injury,2))"
   ]
  },
  {
   "cell_type": "markdown",
   "metadata": {},
   "source": [
    "## 1.2 What is the probability that a player is a forward or a winger?"
   ]
  },
  {
   "cell_type": "code",
   "execution_count": 3,
   "metadata": {},
   "outputs": [
    {
     "name": "stdout",
     "output_type": "stream",
     "text": [
      "Probability that a player is a foward or a winger =  0.52\n"
     ]
    }
   ],
   "source": [
    "Total_Forward_Winger = 123\n",
    "P_forward_winger = Total_Forward_Winger/Total_players\n",
    "print('Probability that a player is a foward or a winger = ', round(P_forward_winger,2))"
   ]
  },
  {
   "cell_type": "markdown",
   "metadata": {},
   "source": [
    "## 1.3. What is the probability that a randomly chosen player plays in a striker position and has a foot injury?"
   ]
  },
  {
   "cell_type": "code",
   "execution_count": 4,
   "metadata": {},
   "outputs": [
    {
     "name": "stdout",
     "output_type": "stream",
     "text": [
      "Probability that a player plays in a striker position and has a foot injury =  0.19\n"
     ]
    }
   ],
   "source": [
    "striker_injury = 45\n",
    "P_striker_injury = striker_injury/Total_players\n",
    "print('Probability that a player plays in a striker position and has a foot injury = ', round(P_striker_injury,2))"
   ]
  },
  {
   "cell_type": "markdown",
   "metadata": {},
   "source": [
    "## 1.4. What is the probability that a randomly chosen injured player is a striker?"
   ]
  },
  {
   "cell_type": "code",
   "execution_count": 5,
   "metadata": {},
   "outputs": [
    {
     "name": "stdout",
     "output_type": "stream",
     "text": [
      "Probability that a randomly chosen injured player is a striker =  0.31\n"
     ]
    }
   ],
   "source": [
    "P_striker_injured = striker_injury/Total_injured\n",
    "print('Probability that a randomly chosen injured player is a striker = ', round(P_striker_injured,2))"
   ]
  },
  {
   "cell_type": "markdown",
   "metadata": {},
   "source": [
    "## 1.5. What is the probability that a randomly chosen injured player is either a forward or an attacking midfielder?"
   ]
  },
  {
   "cell_type": "code",
   "execution_count": 6,
   "metadata": {},
   "outputs": [
    {
     "name": "stdout",
     "output_type": "stream",
     "text": [
      "the probability that a randomly chosen injured player is either a forward or an attacking midfielder 0.55\n"
     ]
    }
   ],
   "source": [
    "forward_attackingmidfielder = 56+24\n",
    "P_forward_attackingmidfielder = forward_attackingmidfielder/Total_injured\n",
    "print('the probability that a randomly chosen injured player is either a forward or an attacking midfielder', round (P_forward_attackingmidfielder,2))\n"
   ]
  },
  {
   "cell_type": "markdown",
   "metadata": {},
   "source": [
    "## 2 Given information\n",
    "* Probability of radiation leak (R) given Fire (F) is P(R/F) =0.2\n",
    "* Probability of radiation leak (R) given Mechanical failure (M) is P(R/M) =0.5\n",
    "* Probability of radiation leak (R) given Human Error (H) is P(R/H) =0.1\n",
    "* Probability of radiation leak (R) with Fire (F) is P(R∩F) =0.001\n",
    "* Probability of radiation leak (R) with mechanical fire (M) is P(R∩M) =0.0015\n",
    "* Probability of radiation leak (R) with human error (H) is P(R∩H) =0.0012\n"
   ]
  },
  {
   "cell_type": "code",
   "execution_count": 7,
   "metadata": {},
   "outputs": [],
   "source": [
    "P_R_F = 0.2\n",
    "P_R_M = 0.5\n",
    "P_R_H = 0.1\n",
    "P_R_int_F = 0.001\n",
    "P_R_int_M = 0.0015\n",
    "P_R_int_H = 0.0012"
   ]
  },
  {
   "cell_type": "markdown",
   "metadata": {},
   "source": [
    "## 2.1 What are the probabilities of a fire, a mechanical failure, and a human error respectively?"
   ]
  },
  {
   "cell_type": "code",
   "execution_count": 8,
   "metadata": {},
   "outputs": [
    {
     "data": {
      "text/plain": [
       "0.005"
      ]
     },
     "execution_count": 8,
     "metadata": {},
     "output_type": "execute_result"
    }
   ],
   "source": [
    "P_F=P_R_int_F/P_R_F \n",
    "P_F"
   ]
  },
  {
   "cell_type": "code",
   "execution_count": 9,
   "metadata": {},
   "outputs": [
    {
     "data": {
      "text/plain": [
       "0.003"
      ]
     },
     "execution_count": 9,
     "metadata": {},
     "output_type": "execute_result"
    }
   ],
   "source": [
    "P_M = P_R_int_M/P_R_M\n",
    "P_M"
   ]
  },
  {
   "cell_type": "code",
   "execution_count": 10,
   "metadata": {},
   "outputs": [
    {
     "data": {
      "text/plain": [
       "0.011999999999999999"
      ]
     },
     "execution_count": 10,
     "metadata": {},
     "output_type": "execute_result"
    }
   ],
   "source": [
    "P_H = P_R_int_H/P_R_H\n",
    "P_H"
   ]
  },
  {
   "cell_type": "markdown",
   "metadata": {},
   "source": [
    "## 2.2 What is the probability of a radiation leak?"
   ]
  },
  {
   "cell_type": "code",
   "execution_count": 11,
   "metadata": {},
   "outputs": [
    {
     "data": {
      "text/plain": [
       "0.0037"
      ]
     },
     "execution_count": 11,
     "metadata": {},
     "output_type": "execute_result"
    }
   ],
   "source": [
    "P_R = P_F*P_R_F+P_M*P_R_M+P_H*P_R_H\n",
    "P_R"
   ]
  },
  {
   "cell_type": "markdown",
   "metadata": {},
   "source": [
    "## 2.3 Suppose there has been a radiation leak in the reactor for which the definite cause is not known. What is the probability that it has been caused by:"
   ]
  },
  {
   "cell_type": "code",
   "execution_count": 12,
   "metadata": {},
   "outputs": [],
   "source": [
    "P_F_R = (P_R_F/P_R)*P_F\n",
    "P_M_R = (P_R_M/P_R)*P_M\n",
    "P_H_R = (P_R_H/P_R)*P_H"
   ]
  },
  {
   "cell_type": "code",
   "execution_count": 13,
   "metadata": {},
   "outputs": [
    {
     "data": {
      "text/plain": [
       "0.2702702702702703"
      ]
     },
     "execution_count": 13,
     "metadata": {},
     "output_type": "execute_result"
    }
   ],
   "source": [
    "P_F_R"
   ]
  },
  {
   "cell_type": "code",
   "execution_count": 14,
   "metadata": {},
   "outputs": [
    {
     "data": {
      "text/plain": [
       "0.4054054054054054"
      ]
     },
     "execution_count": 14,
     "metadata": {},
     "output_type": "execute_result"
    }
   ],
   "source": [
    "P_M_R"
   ]
  },
  {
   "cell_type": "code",
   "execution_count": 15,
   "metadata": {},
   "outputs": [
    {
     "data": {
      "text/plain": [
       "0.3243243243243243"
      ]
     },
     "execution_count": 15,
     "metadata": {},
     "output_type": "execute_result"
    }
   ],
   "source": [
    "P_H_R"
   ]
  },
  {
   "cell_type": "code",
   "execution_count": 16,
   "metadata": {},
   "outputs": [
    {
     "name": "stdout",
     "output_type": "stream",
     "text": [
      "Proportion of the gunny bags have a breaking strength less than 3.17 kg per sq cm is 0.11\n"
     ]
    }
   ],
   "source": [
    "#3.1 probability for less than 3.17 kg\n",
    "mu,sigma = 5 , 1.5\n",
    "p_value = stats.norm.cdf(3.17,5,1.5)\n",
    "print('Proportion of the gunny bags have a breaking strength less than 3.17 kg per sq cm is',round(p_value,2))"
   ]
  },
  {
   "cell_type": "markdown",
   "metadata": {},
   "source": [
    "3.1, Ans ) 11.1% chance of gunny bags strength less than 3.17 kg per sq cm"
   ]
  },
  {
   "cell_type": "code",
   "execution_count": 17,
   "metadata": {},
   "outputs": [
    {
     "data": {
      "image/png": "[encoded data removed]",
      "text/plain": [
       "<Figure size 432x288 with 1 Axes>"
      ]
     },
     "metadata": {
      "needs_background": "light"
     },
     "output_type": "display_data"
    }
   ],
   "source": [
    "x=np.linspace(0,10,100)\n",
    "plt.plot(x,stats.norm.pdf(x,mu,sigma))\n",
    "plt.axvline(x=3.17,c='r')\n",
    "x1=np.linspace(0,3.17,21)\n",
    "plt.fill_between(x1, stats.norm.pdf(x1, mu, sigma), color='g')\n",
    "plt.show()"
   ]
  },
  {
   "cell_type": "code",
   "execution_count": 18,
   "metadata": {},
   "outputs": [
    {
     "name": "stdout",
     "output_type": "stream",
     "text": [
      "Proportion of the gunny bags have a breaking strength atleast 3.6 kg per sq cm is 82.46760551477705\n"
     ]
    }
   ],
   "source": [
    "#3.2, probability for atleast 3.6 kg, with same mu and sigma values\n",
    "p_value=1-stats.norm.cdf(3.6,5,1.5)\n",
    "print('Proportion of the gunny bags have a breaking strength atleast 3.6 kg per sq cm is',p_value*100)"
   ]
  },
  {
   "cell_type": "markdown",
   "metadata": {},
   "source": [
    "3.2, Ans) Proportion of the gunny bags have a breaking strength atleast 3.6 kg per sq cm is 82.5%"
   ]
  },
  {
   "cell_type": "code",
   "execution_count": 19,
   "metadata": {},
   "outputs": [
    {
     "data": {
      "image/png": "[encoded data removed]",
      "text/plain": [
       "<Figure size 432x288 with 1 Axes>"
      ]
     },
     "metadata": {
      "needs_background": "light"
     },
     "output_type": "display_data"
    }
   ],
   "source": [
    "x=np.linspace(0,10,100)\n",
    "plt.plot(x,stats.norm.pdf(x,mu,sigma))\n",
    "plt.axvline(x=3.6,c='r')\n",
    "x1=np.linspace(3.6,10,26)\n",
    "plt.fill_between(x1, stats.norm.pdf(x1, mu, sigma), color='g')\n",
    "plt.show()"
   ]
  },
  {
   "cell_type": "code",
   "execution_count": 20,
   "metadata": {},
   "outputs": [
    {
     "name": "stdout",
     "output_type": "stream",
     "text": [
      "Proportion of the gunny bags have a breaking strength between 5 and 5.5 kg per sq cm is 13.055865981823633\n"
     ]
    }
   ],
   "source": [
    "#3.3, probability between 5 and 5.5 kg, with same mu and sigma values\n",
    "p_value=stats.norm.cdf(5.5,5,1.5)-stats.norm.cdf(5,5,1.5)\n",
    "print('Proportion of the gunny bags have a breaking strength between 5 and 5.5 kg per sq cm is',p_value*100)"
   ]
  },
  {
   "cell_type": "code",
   "execution_count": 21,
   "metadata": {},
   "outputs": [
    {
     "data": {
      "image/png": "[encoded data removed]",
      "text/plain": [
       "<Figure size 432x288 with 1 Axes>"
      ]
     },
     "metadata": {
      "needs_background": "light"
     },
     "output_type": "display_data"
    }
   ],
   "source": [
    "x=np.linspace(0,10,100)\n",
    "plt.plot(x,stats.norm.pdf(x,mu,sigma))\n",
    "plt.axvline(x=5,c='r')\n",
    "plt.axvline(x=5.5,c='r')\n",
    "x1=np.linspace(5,5.5,5)\n",
    "plt.fill_between(x1, stats.norm.pdf(x1, mu, sigma), color='g')\n",
    "plt.show()"
   ]
  },
  {
   "cell_type": "code",
   "execution_count": 22,
   "metadata": {},
   "outputs": [
    {
     "name": "stdout",
     "output_type": "stream",
     "text": [
      "Proportion of the gunny bags have a breaking strength not between 3 and 7.5 kg per sq cm is 13.900157199868257\n"
     ]
    }
   ],
   "source": [
    "#3.4, probability not between 3 and 7.5 kg, with same mu and sigma values\n",
    "p_value=stats.norm.cdf(3,5,1.5)+1-stats.norm.cdf(7.5,5,1.5)\n",
    "print('Proportion of the gunny bags have a breaking strength not between 3 and 7.5 kg per sq cm is',p_value*100)\n"
   ]
  },
  {
   "cell_type": "markdown",
   "metadata": {},
   "source": [
    "3.4, Ans) Proportion of the gunny bags have a breaking strength not between 3 and 7.5 kg per sq cm is 14%"
   ]
  },
  {
   "cell_type": "code",
   "execution_count": 23,
   "metadata": {},
   "outputs": [
    {
     "data": {
      "image/png": "[encoded data removed]",
      "text/plain": [
       "<Figure size 432x288 with 1 Axes>"
      ]
     },
     "metadata": {
      "needs_background": "light"
     },
     "output_type": "display_data"
    }
   ],
   "source": [
    "x=np.linspace(0,10,100)\n",
    "plt.plot(x,stats.norm.pdf(x,mu,sigma))\n",
    "plt.axvline(x=3,c='r')\n",
    "plt.axvline(x=7.5,c='r')\n",
    "x1=np.linspace(0,3,30)\n",
    "x2=np.linspace(7.5,10,25)\n",
    "plt.fill_between(x1, stats.norm.pdf(x1, mu, sigma), color='g')\n",
    "plt.fill_between(x2, stats.norm.pdf(x2, mu, sigma), color='g')\n",
    "plt.show()"
   ]
  },
  {
   "cell_type": "code",
   "execution_count": 24,
   "metadata": {},
   "outputs": [
    {
     "name": "stdout",
     "output_type": "stream",
     "text": [
      "Probability that randomly chosen student gets a grade below 85 is 82.66927837484748\n"
     ]
    }
   ],
   "source": [
    "#4.1 Probability that randomly chosen student gets a grade below 85\n",
    "mean, sd = 77 , 8.5\n",
    "p_value=stats.norm.cdf(85,77,8.5)\n",
    "print('Probability that randomly chosen student gets a grade below 85 is',p_value*100)\n"
   ]
  },
  {
   "cell_type": "code",
   "execution_count": 25,
   "metadata": {},
   "outputs": [
    {
     "data": {
      "image/png": "[encoded data removed]",
      "text/plain": [
       "<Figure size 432x288 with 1 Axes>"
      ]
     },
     "metadata": {
      "needs_background": "light"
     },
     "output_type": "display_data"
    }
   ],
   "source": [
    "y=np.linspace(0,100,100)\n",
    "plt.plot(y,stats.norm.pdf(y,mean,sd))\n",
    "plt.axvline(x=85,c='r')\n",
    "y1=np.linspace(0,85,85)\n",
    "plt.fill_between(y1, stats.norm.pdf(y1, mean, sd), color='g')\n",
    "plt.show()"
   ]
  },
  {
   "cell_type": "code",
   "execution_count": 26,
   "metadata": {},
   "outputs": [
    {
     "name": "stdout",
     "output_type": "stream",
     "text": [
      "Probability that randomly chosen student gets a grade between 65 and 87 is 80.12869336779059\n"
     ]
    }
   ],
   "source": [
    "#4.2 Probability that randomly chosen student gets a grade between 65 and 87 with same mean, sd values\n",
    "p_value = stats.norm.cdf(87,mean,sd)-stats.norm.cdf(65,mean,sd)\n",
    "print('Probability that randomly chosen student gets a grade between 65 and 87 is',p_value*100)"
   ]
  },
  {
   "cell_type": "code",
   "execution_count": 27,
   "metadata": {},
   "outputs": [
    {
     "data": {
      "image/png": "[encoded data removed]",
      "text/plain": [
       "<Figure size 432x288 with 1 Axes>"
      ]
     },
     "metadata": {
      "needs_background": "light"
     },
     "output_type": "display_data"
    }
   ],
   "source": [
    "y=np.linspace(0,100,100)\n",
    "plt.plot(y,stats.norm.pdf(y,mean,sd))\n",
    "plt.axvline(x=65,c='r')\n",
    "plt.axvline(x=87,c='r')\n",
    "y1=np.linspace(65,87,22)\n",
    "plt.fill_between(y1, stats.norm.pdf(y1, mean, sd), color='g')\n",
    "plt.show()"
   ]
  },
  {
   "cell_type": "code",
   "execution_count": 28,
   "metadata": {},
   "outputs": [
    {
     "name": "stdout",
     "output_type": "stream",
     "text": [
      "Passing cut-off so that 75% students to score is 71.0\n"
     ]
    }
   ],
   "source": [
    "#4.3 Passing cut-off so that 75% of the students clear the exam\n",
    "score_75 = stats.norm.ppf(0.25,mean,sd)\n",
    "print('Passing cut-off so that 75% students to score is', round(score_75))"
   ]
  },
  {
   "cell_type": "code",
   "execution_count": 29,
   "metadata": {},
   "outputs": [
    {
     "data": {
      "image/png": "[encoded data removed]",
      "text/plain": [
       "<Figure size 432x288 with 1 Axes>"
      ]
     },
     "metadata": {
      "needs_background": "light"
     },
     "output_type": "display_data"
    }
   ],
   "source": [
    "y=np.linspace(0,100,100)\n",
    "plt.plot(y,stats.norm.pdf(y,mean,sd))\n",
    "plt.axvline(x=71, c='r')\n",
    "plt.show()"
   ]
  },
  {
   "cell_type": "code",
   "execution_count": 30,
   "metadata": {},
   "outputs": [],
   "source": [
    "#5\n",
    "df1=pd.read_csv(r'C:/Users/z0126520/Documents/Python/GL/Week 12_Project/Zingaro_Company.csv')\n"
   ]
  },
  {
   "cell_type": "code",
   "execution_count": 31,
   "metadata": {},
   "outputs": [
    {
     "data": {
      "text/html": [
       "<div>\n",
       "<style scoped>\n",
       "    .dataframe tbody tr th:only-of-type {\n",
       "        vertical-align: middle;\n",
       "    }\n",
       "\n",
       "    .dataframe tbody tr th {\n",
       "        vertical-align: top;\n",
       "    }\n",
       "\n",
       "    .dataframe thead th {\n",
       "        text-align: right;\n",
       "    }\n",
       "</style>\n",
       "<table border=\"1\" class=\"dataframe\">\n",
       "  <thead>\n",
       "    <tr style=\"text-align: right;\">\n",
       "      <th></th>\n",
       "      <th>Unpolished</th>\n",
       "      <th>Treated and Polished</th>\n",
       "    </tr>\n",
       "  </thead>\n",
       "  <tbody>\n",
       "    <tr>\n",
       "      <th>0</th>\n",
       "      <td>164.481713</td>\n",
       "      <td>133.209393</td>\n",
       "    </tr>\n",
       "  </tbody>\n",
       "</table>\n",
       "</div>"
      ],
      "text/plain": [
       "   Unpolished  Treated and Polished\n",
       "0  164.481713            133.209393"
      ]
     },
     "execution_count": 31,
     "metadata": {},
     "output_type": "execute_result"
    }
   ],
   "source": [
    "df1.head(1)"
   ]
  },
  {
   "cell_type": "code",
   "execution_count": 32,
   "metadata": {},
   "outputs": [],
   "source": [
    "x=df1['Unpolished']"
   ]
  },
  {
   "cell_type": "code",
   "execution_count": 33,
   "metadata": {},
   "outputs": [],
   "source": [
    "#5.1-as we don't know the standard deviation of population, need to go with t-test of 1 sample\n",
    "from scipy.stats import ttest_1samp\n",
    "t_statistic, pr_value = ttest_1samp(x,150)"
   ]
  },
  {
   "cell_type": "code",
   "execution_count": 34,
   "metadata": {},
   "outputs": [
    {
     "data": {
      "text/plain": [
       "8.342573994839286e-05"
      ]
     },
     "execution_count": 34,
     "metadata": {},
     "output_type": "execute_result"
    }
   ],
   "source": [
    "pr_value"
   ]
  },
  {
   "cell_type": "markdown",
   "metadata": {},
   "source": [
    "As per the probability value i.e.., 0.000083 which is less than the level of significance (0.05). Hence we reject the unpolished stones from the client."
   ]
  },
  {
   "cell_type": "code",
   "execution_count": 35,
   "metadata": {},
   "outputs": [
    {
     "data": {
      "text/plain": [
       "0.0014655150194628353"
      ]
     },
     "execution_count": 35,
     "metadata": {},
     "output_type": "execute_result"
    }
   ],
   "source": [
    "#5.2  \n",
    "from scipy.stats import ttest_ind\n",
    "t_statistic, pr_value = ttest_ind(df1['Unpolished'],df1['Treated and Polished'])\n",
    "pr_value\n"
   ]
  },
  {
   "cell_type": "markdown",
   "metadata": {},
   "source": [
    "* $H_0$: $\\mu_{polished}$ - $\\mu{unpolished}$ =      0 i.e        $\\mu{polished}$ = $\\mu{unpolished}$\n",
    "* $H_A$: $\\mu_{polished}$ - $\\mu{unpolished}$ $\\neq$  0 i.e      $\\mu{polished}$ $\\neq$ $\\mu{unpolished}$"
   ]
  },
  {
   "cell_type": "code",
   "execution_count": 36,
   "metadata": {},
   "outputs": [
    {
     "name": "stdout",
     "output_type": "stream",
     "text": [
      "two-sample t-test p-value= 0.0014655150194628353\n",
      "We have enough evidence to reject the null hypothesis in favour of alternative hypothesis\n",
      "We conclude that the mean hardness of stones in both polished and unpolished are not same.\n"
     ]
    }
   ],
   "source": [
    "# p_value < 0.05 => alternative hypothesis:\n",
    "# they don't have the same mean at the 5% significance level\n",
    "print (\"two-sample t-test p-value=\", pr_value)\n",
    "\n",
    "alpha_level = 0.05\n",
    "\n",
    "if pr_value < alpha_level:\n",
    "    print('We have enough evidence to reject the null hypothesis in favour of alternative hypothesis')\n",
    "    print('We conclude that the mean hardness of stones in both polished and unpolished are not same.')\n",
    "else:\n",
    "    print('We do not have enough evidence to reject the null hypothesis in favour of alternative hypothesis')\n",
    "    print('We conclude that mean hardness of stones in both polished and unpolished are same')"
   ]
  },
  {
   "cell_type": "code",
   "execution_count": 37,
   "metadata": {},
   "outputs": [],
   "source": [
    "#6\n",
    "df2=pd.read_csv(r'C:/Users/z0126520/Documents/Python/GL/Week 12_Project/Aquarius_gym.csv')"
   ]
  },
  {
   "cell_type": "markdown",
   "metadata": {},
   "source": [
    "* $H_0$:Weight difference > 5\n",
    "* $H_1$:Weight difference <= 5"
   ]
  },
  {
   "cell_type": "code",
   "execution_count": 38,
   "metadata": {},
   "outputs": [],
   "source": [
    "from scipy.stats import ttest_rel\n",
    "t_stat, prob_value = ttest_rel(df2['After'],df2['Before'])"
   ]
  },
  {
   "cell_type": "code",
   "execution_count": 39,
   "metadata": {},
   "outputs": [
    {
     "data": {
      "text/plain": [
       "1.1460209626255983e-35"
      ]
     },
     "execution_count": 39,
     "metadata": {},
     "output_type": "execute_result"
    }
   ],
   "source": [
    "prob_value/2"
   ]
  },
  {
   "cell_type": "code",
   "execution_count": 40,
   "metadata": {},
   "outputs": [
    {
     "name": "stdout",
     "output_type": "stream",
     "text": [
      "Paired two-sample t-test p-value= 1.1460209626255983e-35\n",
      "We have enough evidence to say that program for body conditioning is Reject\n"
     ]
    }
   ],
   "source": [
    "# p_value < 0.05 => alternative hypothesis:\n",
    "# they don't have the same mean at the 5% significance level\n",
    "print (\"Paired two-sample t-test p-value=\", prob_value/2)\n",
    "\n",
    "alpha_level = 0.05\n",
    "\n",
    "if (prob_value/2) < alpha_level:\n",
    "    print('We have enough evidence to say that program for body conditioning is Reject')\n",
    "    \n",
    "else:\n",
    "    print('We do not have enough evidence to say that program for body conditioning is failed to reject')\n",
    "    "
   ]
  },
  {
   "cell_type": "markdown",
   "metadata": {},
   "source": [
    "# 7\n",
    "Find the diffirences of among the dentists on the implant hardness\n"
   ]
  },
  {
   "cell_type": "code",
   "execution_count": 41,
   "metadata": {},
   "outputs": [],
   "source": [
    "df3 = pd.read_excel(r'C:/Users/z0126520/Documents/Python/GL/Week 12_Project/Dental_hardness_data.xlsx')"
   ]
  },
  {
   "cell_type": "code",
   "execution_count": 42,
   "metadata": {},
   "outputs": [
    {
     "name": "stdout",
     "output_type": "stream",
     "text": [
      "<class 'pandas.core.frame.DataFrame'>\n",
      "RangeIndex: 90 entries, 0 to 89\n",
      "Data columns (total 5 columns):\n",
      "Dentist     90 non-null int64\n",
      "Method      90 non-null int64\n",
      "Alloy       90 non-null int64\n",
      "Temp        90 non-null int64\n",
      "Response    90 non-null int64\n",
      "dtypes: int64(5)\n",
      "memory usage: 3.6 KB\n"
     ]
    }
   ],
   "source": [
    "df3.info()"
   ]
  },
  {
   "cell_type": "code",
   "execution_count": 43,
   "metadata": {},
   "outputs": [
    {
     "data": {
      "text/plain": [
       "(90, 5)"
      ]
     },
     "execution_count": 43,
     "metadata": {},
     "output_type": "execute_result"
    }
   ],
   "source": [
    "df3.shape"
   ]
  },
  {
   "cell_type": "code",
   "execution_count": 44,
   "metadata": {},
   "outputs": [],
   "source": [
    "df3.Dentist = pd.Categorical(df3.Dentist)\n",
    "df3.Method = pd.Categorical(df3.Method)\n",
    "df3.Alloy = pd.Categorical(df3.Alloy)"
   ]
  },
  {
   "cell_type": "code",
   "execution_count": 45,
   "metadata": {},
   "outputs": [
    {
     "data": {
      "text/plain": [
       "767.0"
      ]
     },
     "execution_count": 45,
     "metadata": {},
     "output_type": "execute_result"
    }
   ],
   "source": [
    "median=df3['Response'].median()\n",
    "median"
   ]
  },
  {
   "cell_type": "code",
   "execution_count": 46,
   "metadata": {},
   "outputs": [],
   "source": [
    "def remove_outlier(col):\n",
    "    sorted(col)\n",
    "    Q1,Q3=col.quantile([0.25,0.75])\n",
    "    IQR=Q3-Q1\n",
    "    lower_range= Q1-(1.5 * IQR)\n",
    "    upper_range= Q3+(1.5 * IQR)\n",
    "    return lower_range, upper_range "
   ]
  },
  {
   "cell_type": "code",
   "execution_count": 47,
   "metadata": {},
   "outputs": [],
   "source": [
    "#treating Alloys\n",
    "lr,ur=remove_outlier(df3['Response'])\n",
    "df3['Response']=np.where(df3['Response']>ur,ur,df3['Response'])\n",
    "df3['Response']=np.where(df3['Response']<lr,lr,df3['Response'])\n"
   ]
  },
  {
   "cell_type": "code",
   "execution_count": 48,
   "metadata": {},
   "outputs": [
    {
     "data": {
      "image/png": "[encoded data removed]",
      "text/plain": [
       "<Figure size 432x288 with 1 Axes>"
      ]
     },
     "metadata": {
      "needs_background": "light"
     },
     "output_type": "display_data"
    }
   ],
   "source": [
    "sns.boxplot(df3['Response']);\n"
   ]
  },
  {
   "cell_type": "code",
   "execution_count": 49,
   "metadata": {},
   "outputs": [
    {
     "data": {
      "text/html": [
       "<div>\n",
       "<style scoped>\n",
       "    .dataframe tbody tr th:only-of-type {\n",
       "        vertical-align: middle;\n",
       "    }\n",
       "\n",
       "    .dataframe tbody tr th {\n",
       "        vertical-align: top;\n",
       "    }\n",
       "\n",
       "    .dataframe thead th {\n",
       "        text-align: right;\n",
       "    }\n",
       "</style>\n",
       "<table border=\"1\" class=\"dataframe\">\n",
       "  <thead>\n",
       "    <tr style=\"text-align: right;\">\n",
       "      <th></th>\n",
       "      <th>Dentist</th>\n",
       "      <th>Method</th>\n",
       "      <th>Alloy</th>\n",
       "      <th>Temp</th>\n",
       "      <th>Response</th>\n",
       "    </tr>\n",
       "  </thead>\n",
       "  <tbody>\n",
       "    <tr>\n",
       "      <th>0</th>\n",
       "      <td>1</td>\n",
       "      <td>1</td>\n",
       "      <td>1</td>\n",
       "      <td>1500</td>\n",
       "      <td>813.0</td>\n",
       "    </tr>\n",
       "    <tr>\n",
       "      <th>1</th>\n",
       "      <td>1</td>\n",
       "      <td>1</td>\n",
       "      <td>1</td>\n",
       "      <td>1600</td>\n",
       "      <td>792.0</td>\n",
       "    </tr>\n",
       "    <tr>\n",
       "      <th>2</th>\n",
       "      <td>1</td>\n",
       "      <td>1</td>\n",
       "      <td>1</td>\n",
       "      <td>1700</td>\n",
       "      <td>792.0</td>\n",
       "    </tr>\n",
       "  </tbody>\n",
       "</table>\n",
       "</div>"
      ],
      "text/plain": [
       "  Dentist Method Alloy  Temp  Response\n",
       "0       1      1     1  1500     813.0\n",
       "1       1      1     1  1600     792.0\n",
       "2       1      1     1  1700     792.0"
      ]
     },
     "execution_count": 49,
     "metadata": {},
     "output_type": "execute_result"
    }
   ],
   "source": [
    "df3_alloy1 = df3[df3['Alloy']==1]\n",
    "df3_alloy1.head(3)"
   ]
  },
  {
   "cell_type": "code",
   "execution_count": 50,
   "metadata": {},
   "outputs": [
    {
     "data": {
      "text/html": [
       "<div>\n",
       "<style scoped>\n",
       "    .dataframe tbody tr th:only-of-type {\n",
       "        vertical-align: middle;\n",
       "    }\n",
       "\n",
       "    .dataframe tbody tr th {\n",
       "        vertical-align: top;\n",
       "    }\n",
       "\n",
       "    .dataframe thead th {\n",
       "        text-align: right;\n",
       "    }\n",
       "</style>\n",
       "<table border=\"1\" class=\"dataframe\">\n",
       "  <thead>\n",
       "    <tr style=\"text-align: right;\">\n",
       "      <th></th>\n",
       "      <th>count</th>\n",
       "      <th>mean</th>\n",
       "      <th>std</th>\n",
       "      <th>min</th>\n",
       "      <th>25%</th>\n",
       "      <th>50%</th>\n",
       "      <th>75%</th>\n",
       "      <th>max</th>\n",
       "    </tr>\n",
       "  </thead>\n",
       "  <tbody>\n",
       "    <tr>\n",
       "      <th>Temp</th>\n",
       "      <td>45.0</td>\n",
       "      <td>1600.000000</td>\n",
       "      <td>82.572282</td>\n",
       "      <td>1500.0</td>\n",
       "      <td>1500.0</td>\n",
       "      <td>1600.0</td>\n",
       "      <td>1700.0</td>\n",
       "      <td>1700.0</td>\n",
       "    </tr>\n",
       "    <tr>\n",
       "      <th>Response</th>\n",
       "      <td>45.0</td>\n",
       "      <td>717.577778</td>\n",
       "      <td>94.577647</td>\n",
       "      <td>509.0</td>\n",
       "      <td>681.0</td>\n",
       "      <td>743.0</td>\n",
       "      <td>782.0</td>\n",
       "      <td>882.0</td>\n",
       "    </tr>\n",
       "  </tbody>\n",
       "</table>\n",
       "</div>"
      ],
      "text/plain": [
       "          count         mean        std     min     25%     50%     75%  \\\n",
       "Temp       45.0  1600.000000  82.572282  1500.0  1500.0  1600.0  1700.0   \n",
       "Response   45.0   717.577778  94.577647   509.0   681.0   743.0   782.0   \n",
       "\n",
       "             max  \n",
       "Temp      1700.0  \n",
       "Response   882.0  "
      ]
     },
     "execution_count": 50,
     "metadata": {},
     "output_type": "execute_result"
    }
   ],
   "source": [
    "df3_alloy1.describe().T"
   ]
  },
  {
   "cell_type": "code",
   "execution_count": 51,
   "metadata": {},
   "outputs": [
    {
     "data": {
      "text/html": [
       "<div>\n",
       "<style scoped>\n",
       "    .dataframe tbody tr th:only-of-type {\n",
       "        vertical-align: middle;\n",
       "    }\n",
       "\n",
       "    .dataframe tbody tr th {\n",
       "        vertical-align: top;\n",
       "    }\n",
       "\n",
       "    .dataframe thead th {\n",
       "        text-align: right;\n",
       "    }\n",
       "</style>\n",
       "<table border=\"1\" class=\"dataframe\">\n",
       "  <thead>\n",
       "    <tr style=\"text-align: right;\">\n",
       "      <th></th>\n",
       "      <th>Dentist</th>\n",
       "      <th>Method</th>\n",
       "      <th>Alloy</th>\n",
       "      <th>Temp</th>\n",
       "      <th>Response</th>\n",
       "    </tr>\n",
       "  </thead>\n",
       "  <tbody>\n",
       "    <tr>\n",
       "      <th>3</th>\n",
       "      <td>1</td>\n",
       "      <td>1</td>\n",
       "      <td>2</td>\n",
       "      <td>1500</td>\n",
       "      <td>907.0</td>\n",
       "    </tr>\n",
       "    <tr>\n",
       "      <th>4</th>\n",
       "      <td>1</td>\n",
       "      <td>1</td>\n",
       "      <td>2</td>\n",
       "      <td>1600</td>\n",
       "      <td>792.0</td>\n",
       "    </tr>\n",
       "    <tr>\n",
       "      <th>5</th>\n",
       "      <td>1</td>\n",
       "      <td>1</td>\n",
       "      <td>2</td>\n",
       "      <td>1700</td>\n",
       "      <td>835.0</td>\n",
       "    </tr>\n",
       "  </tbody>\n",
       "</table>\n",
       "</div>"
      ],
      "text/plain": [
       "  Dentist Method Alloy  Temp  Response\n",
       "3       1      1     2  1500     907.0\n",
       "4       1      1     2  1600     792.0\n",
       "5       1      1     2  1700     835.0"
      ]
     },
     "execution_count": 51,
     "metadata": {},
     "output_type": "execute_result"
    }
   ],
   "source": [
    "df3_alloy2=df3[df3['Alloy']==2]\n",
    "df3_alloy2.head(3)"
   ]
  },
  {
   "cell_type": "code",
   "execution_count": 52,
   "metadata": {},
   "outputs": [
    {
     "data": {
      "text/html": [
       "<div>\n",
       "<style scoped>\n",
       "    .dataframe tbody tr th:only-of-type {\n",
       "        vertical-align: middle;\n",
       "    }\n",
       "\n",
       "    .dataframe tbody tr th {\n",
       "        vertical-align: top;\n",
       "    }\n",
       "\n",
       "    .dataframe thead th {\n",
       "        text-align: right;\n",
       "    }\n",
       "</style>\n",
       "<table border=\"1\" class=\"dataframe\">\n",
       "  <thead>\n",
       "    <tr style=\"text-align: right;\">\n",
       "      <th></th>\n",
       "      <th>count</th>\n",
       "      <th>mean</th>\n",
       "      <th>std</th>\n",
       "      <th>min</th>\n",
       "      <th>25%</th>\n",
       "      <th>50%</th>\n",
       "      <th>75%</th>\n",
       "      <th>max</th>\n",
       "    </tr>\n",
       "  </thead>\n",
       "  <tbody>\n",
       "    <tr>\n",
       "      <th>Temp</th>\n",
       "      <td>45.0</td>\n",
       "      <td>1600.000000</td>\n",
       "      <td>82.572282</td>\n",
       "      <td>1500.0</td>\n",
       "      <td>1500.0</td>\n",
       "      <td>1600.0</td>\n",
       "      <td>1700.0</td>\n",
       "      <td>1700.0</td>\n",
       "    </tr>\n",
       "    <tr>\n",
       "      <th>Response</th>\n",
       "      <td>45.0</td>\n",
       "      <td>784.088889</td>\n",
       "      <td>126.592191</td>\n",
       "      <td>509.0</td>\n",
       "      <td>715.0</td>\n",
       "      <td>824.0</td>\n",
       "      <td>858.0</td>\n",
       "      <td>1013.0</td>\n",
       "    </tr>\n",
       "  </tbody>\n",
       "</table>\n",
       "</div>"
      ],
      "text/plain": [
       "          count         mean         std     min     25%     50%     75%  \\\n",
       "Temp       45.0  1600.000000   82.572282  1500.0  1500.0  1600.0  1700.0   \n",
       "Response   45.0   784.088889  126.592191   509.0   715.0   824.0   858.0   \n",
       "\n",
       "             max  \n",
       "Temp      1700.0  \n",
       "Response  1013.0  "
      ]
     },
     "execution_count": 52,
     "metadata": {},
     "output_type": "execute_result"
    }
   ],
   "source": [
    "df3_alloy2.describe().T"
   ]
  },
  {
   "cell_type": "code",
   "execution_count": 53,
   "metadata": {},
   "outputs": [
    {
     "data": {
      "text/plain": [
       "<bound method IndexOpsMixin.value_counts of 0     1\n",
       "1     1\n",
       "2     1\n",
       "3     1\n",
       "4     1\n",
       "     ..\n",
       "85    5\n",
       "86    5\n",
       "87    5\n",
       "88    5\n",
       "89    5\n",
       "Name: Dentist, Length: 90, dtype: category\n",
       "Categories (5, int64): [1, 2, 3, 4, 5]>"
      ]
     },
     "execution_count": 53,
     "metadata": {},
     "output_type": "execute_result"
    }
   ],
   "source": [
    "df3.Dentist.value_counts"
   ]
  },
  {
   "cell_type": "code",
   "execution_count": 54,
   "metadata": {},
   "outputs": [
    {
     "data": {
      "text/plain": [
       "<bound method IndexOpsMixin.value_counts of 0     1\n",
       "1     1\n",
       "2     1\n",
       "3     1\n",
       "4     1\n",
       "     ..\n",
       "85    3\n",
       "86    3\n",
       "87    3\n",
       "88    3\n",
       "89    3\n",
       "Name: Method, Length: 90, dtype: category\n",
       "Categories (3, int64): [1, 2, 3]>"
      ]
     },
     "execution_count": 54,
     "metadata": {},
     "output_type": "execute_result"
    }
   ],
   "source": [
    "df3.Method.value_counts"
   ]
  },
  {
   "cell_type": "code",
   "execution_count": 55,
   "metadata": {},
   "outputs": [
    {
     "data": {
      "text/plain": [
       "<bound method IndexOpsMixin.value_counts of 0     1\n",
       "1     1\n",
       "2     1\n",
       "3     2\n",
       "4     2\n",
       "     ..\n",
       "85    1\n",
       "86    1\n",
       "87    2\n",
       "88    2\n",
       "89    2\n",
       "Name: Alloy, Length: 90, dtype: category\n",
       "Categories (2, int64): [1, 2]>"
      ]
     },
     "execution_count": 55,
     "metadata": {},
     "output_type": "execute_result"
    }
   ],
   "source": [
    "df3.Alloy.value_counts"
   ]
  },
  {
   "cell_type": "code",
   "execution_count": 56,
   "metadata": {},
   "outputs": [
    {
     "data": {
      "image/png": "[encoded data removed]",
      "text/plain": [
       "<Figure size 1080x720 with 2 Axes>"
      ]
     },
     "metadata": {
      "needs_background": "light"
     },
     "output_type": "display_data"
    }
   ],
   "source": [
    "plt.figure(figsize=(15,10))\n",
    "plt.subplot(2,2,1)\n",
    "plt.boxplot(df3['Response']);\n",
    "plt.subplot(2,2,2)\n",
    "plt.boxplot(df3['Temp']);"
   ]
  },
  {
   "cell_type": "markdown",
   "metadata": {},
   "source": [
    "# 7.1) Test whether there is any difference among the dentists on the implant hardness. State the null and alternative hypotheses. Note that both types of alloys cannot be considered together. You must state the null and alternative hypotheses separately for the two types of alloys.? \n",
    "\n",
    "## For Alloy 1\n",
    "* $H_0$: The mean responses due to different dentists are same while using Alloy 1.\n",
    "* $H_1$: The mean responses due to different dentists are not same while using Alloy 1."
   ]
  },
  {
   "cell_type": "code",
   "execution_count": 57,
   "metadata": {},
   "outputs": [
    {
     "name": "stdout",
     "output_type": "stream",
     "text": [
      "              df         sum_sq       mean_sq         F    PR(>F)\n",
      "C(Dentist)   4.0   66319.422222  16579.855556  2.026521  0.109066\n",
      "Residual    40.0  327257.555556   8181.438889       NaN       NaN\n"
     ]
    }
   ],
   "source": [
    "#for alloy 1\n",
    "formula='Response ~ C(Dentist)'\n",
    "model = ols(formula,df3_alloy1).fit()\n",
    "aov_table1=anova_lm(model)\n",
    "print(aov_table1)"
   ]
  },
  {
   "cell_type": "markdown",
   "metadata": {},
   "source": [
    "* As the probability value i.e.., 11% is higher than the 5%, it is evidence that failed to reject the null Hypothesis.\n",
    "* Therefore it is declare that, mean responses due to different dentists are same while using Alloy 1"
   ]
  },
  {
   "cell_type": "markdown",
   "metadata": {},
   "source": [
    "## For Alloy 2\n",
    "* $H_0$: The mean responses due to different dentists are same while using Alloy 2.\n",
    "* $H_1$: The mean responses due to different dentists are not same while using Alloy 2."
   ]
  },
  {
   "cell_type": "code",
   "execution_count": 58,
   "metadata": {},
   "outputs": [
    {
     "name": "stdout",
     "output_type": "stream",
     "text": [
      "              df         sum_sq       mean_sq         F    PR(>F)\n",
      "C(Dentist)   4.0   20704.977778   5176.244444  0.302518  0.874547\n",
      "C(Alloy)     1.0   11730.013889  11730.013889  0.685544  0.412597\n",
      "Residual    40.0  684420.666667  17110.516667       NaN       NaN\n"
     ]
    }
   ],
   "source": [
    "#for Alloy2\n",
    "formula='Response ~ C(Dentist)+C(Alloy)'\n",
    "model = ols(formula, df3_alloy2).fit()\n",
    "aov_table2=anova_lm(model)\n",
    "print(aov_table2)"
   ]
  },
  {
   "cell_type": "markdown",
   "metadata": {},
   "source": [
    "* As the probability value i.e.., 87.4% is higher than the 5%, it is evidence that failed to reject the null Hypothesis.\n",
    "* Therefore it is declare that, mean responses due to different dentists are same while using Alloy 2"
   ]
  },
  {
   "cell_type": "markdown",
   "metadata": {},
   "source": [
    "# 7.2 Before the hypotheses may be tested, state the required assumptions. Are the assumptions fulfilled? Comment separately on both alloy types? "
   ]
  },
  {
   "cell_type": "markdown",
   "metadata": {},
   "source": [
    "##### Assumptions are\n",
    "* Response variable of the population are continuous and normally distributed.\n",
    "* Variances of alloy 1 and alloy 2 are equal at least approximately.\n",
    "* Alloy 1 and Alloy 2 are independent and randomly selected population."
   ]
  },
  {
   "cell_type": "code",
   "execution_count": 59,
   "metadata": {},
   "outputs": [],
   "source": [
    "#7.2\n",
    "alloy1 = df3[df3['Alloy']==1]['Response']\n",
    "alloy2 = df3[df3['Alloy']==2]['Response']"
   ]
  },
  {
   "cell_type": "markdown",
   "metadata": {},
   "source": [
    "## Shapiro - Wilke test\n",
    "* 'Response' variable of the population are continuous and normally distributed."
   ]
  },
  {
   "cell_type": "code",
   "execution_count": 60,
   "metadata": {},
   "outputs": [
    {
     "name": "stdout",
     "output_type": "stream",
     "text": [
      "(0.8991953134536743, 0.000894434517249465)\n",
      "(0.927866518497467, 0.007890536449849606)\n"
     ]
    }
   ],
   "source": [
    "#shapiro test\n",
    "print(stats.shapiro([alloy1]))\n",
    "print(stats.shapiro([alloy2]))"
   ]
  },
  {
   "cell_type": "markdown",
   "metadata": {},
   "source": [
    "#### Observation\n",
    "* For alloy 1 as the p_value is 0.000894434517249465 which is less than 0.05. So it is concluded that alloy_1 distribution is not normal\n",
    "* For alloy 2 as the p_value is 0.007890536449849606 which is less than 0.05. So, it is cocluded that alloy_2 distribution is not normal"
   ]
  },
  {
   "cell_type": "markdown",
   "metadata": {},
   "source": [
    "## Levene Test\n",
    "* Variances of alloy 1 and alloy 2 are equal at least approximately\n",
    "* Need to check the homogenity between populations"
   ]
  },
  {
   "cell_type": "code",
   "execution_count": 61,
   "metadata": {},
   "outputs": [
    {
     "name": "stdout",
     "output_type": "stream",
     "text": [
      "LeveneResult(statistic=2.02655886945465, pvalue=0.15810620474519307)\n"
     ]
    }
   ],
   "source": [
    "#levene test_Variance equality and homogenity\n",
    "print(stats.levene(alloy1,alloy2))"
   ]
  },
  {
   "cell_type": "markdown",
   "metadata": {},
   "source": [
    "As the pvalue is greater than 0.05, it can be say that variances are approximately equal"
   ]
  },
  {
   "cell_type": "markdown",
   "metadata": {},
   "source": [
    "# 7.3 Irrespective of your conclusion in 7.2, we will continue with the testing procedure. What do you conclude regarding whether implant hardness depends on dentists? Clearly state your conclusion. If the null hypothesis is rejected, is it possible to identify which pairs of dentists differ?\n",
    "\n",
    "\n",
    "##### Conclusion\n",
    "<br>As the mean hardness responses of the dentists are same irrespective of the alloy, it is evident that implant hardness does not depend on dentists as the mean responses are equal.\n",
    "<br> & As the null hypothesis is failed to reject, there is no difference between the dentists regarding implantation hardness"
   ]
  },
  {
   "cell_type": "code",
   "execution_count": 62,
   "metadata": {},
   "outputs": [
    {
     "data": {
      "image/png": "[encoded data removed]",
      "text/plain": [
       "<Figure size 432x288 with 1 Axes>"
      ]
     },
     "metadata": {
      "needs_background": "light"
     },
     "output_type": "display_data"
    }
   ],
   "source": [
    "sns.pointplot(x='Dentist', y='Response', data=df3, hue='Alloy', ci=None);"
   ]
  },
  {
   "cell_type": "markdown",
   "metadata": {},
   "source": [
    "We cannot say, There is a difference in dentists as the null hypothesis is Failed to reject.\n",
    "But if the null hypothesis is failed to reject, \n",
    "* If there is any significant differences in the mean of the different dentists, by using the point plot mentioned above we can assume the pair of different dentists."
   ]
  },
  {
   "cell_type": "markdown",
   "metadata": {},
   "source": [
    "# 7.4  Now test whether there is any difference among the methods on the hardness of dental implant, separately for the two types of alloys. What are your conclusions? If the null hypothesis is rejected, is it possible to identify which pairs of methods differ?\n",
    "\n",
    "## For Alloy_1\n",
    "<br> $H_0$ : There is  no difference among the methods on the hardness of dental impact.\n",
    "<br> $H_1$ : There is difference among the methods on the hardness of dental impact."
   ]
  },
  {
   "cell_type": "code",
   "execution_count": 63,
   "metadata": {},
   "outputs": [
    {
     "name": "stdout",
     "output_type": "stream",
     "text": [
      "             df         sum_sq       mean_sq         F    PR(>F)\n",
      "C(Method)   2.0   83943.644444  41971.822222  5.693239  0.006489\n",
      "Residual   42.0  309633.333333   7372.222222       NaN       NaN\n"
     ]
    }
   ],
   "source": [
    "#alloy_1\n",
    "formula='Response ~ C(Method)'\n",
    "model = ols(formula,df3_alloy1).fit()\n",
    "aov_table1=anova_lm(model)\n",
    "print(aov_table1)\n"
   ]
  },
  {
   "cell_type": "markdown",
   "metadata": {},
   "source": [
    "### Observation for Alloy_1\n",
    "* As the p_value is less than the 0.05, Null Hypothesis is Rejected.\n",
    "* There is no difference among the methods on the hardness of dental Implant."
   ]
  },
  {
   "cell_type": "code",
   "execution_count": 64,
   "metadata": {},
   "outputs": [
    {
     "data": {
      "text/plain": [
       "<matplotlib.axes._subplots.AxesSubplot at 0x2caad14c788>"
      ]
     },
     "execution_count": 64,
     "metadata": {},
     "output_type": "execute_result"
    },
    {
     "data": {
      "image/png": "[encoded data removed]",
      "text/plain": [
       "<Figure size 432x288 with 1 Axes>"
      ]
     },
     "metadata": {
      "needs_background": "light"
     },
     "output_type": "display_data"
    }
   ],
   "source": [
    "sns.pointplot(df3_alloy1['Method'],df3_alloy1['Response'])"
   ]
  },
  {
   "cell_type": "markdown",
   "metadata": {},
   "source": [
    "### Observation_alloy1_Plotting\n",
    "\n",
    "* As the Null Hypothesis is rejected, we cannot say which methods are differ.\n",
    "\n",
    "If the null hypothesis is rejected,\n",
    "* By using the above graph, we can assume the pair of methods which are differ."
   ]
  },
  {
   "cell_type": "markdown",
   "metadata": {},
   "source": [
    "## For Alloy_2\n",
    "<br> $H_0$ : There is  no difference among the methods on the hardness of dental impact.\n",
    "<br> $H_1$ : There is difference among the methods on the hardness of dental impact."
   ]
  },
  {
   "cell_type": "code",
   "execution_count": 65,
   "metadata": {},
   "outputs": [
    {
     "name": "stdout",
     "output_type": "stream",
     "text": [
      "             df         sum_sq        mean_sq          F        PR(>F)\n",
      "C(Method)   2.0  344333.644444  172166.822222  20.042037  7.741020e-07\n",
      "Residual   42.0  360792.000000    8590.285714        NaN           NaN\n"
     ]
    }
   ],
   "source": [
    "#alloy_2\n",
    "formula='Response ~ C(Method)'\n",
    "model = ols(formula,df3_alloy2).fit()\n",
    "aov_table1=anova_lm(model)\n",
    "print(aov_table1)\n"
   ]
  },
  {
   "cell_type": "markdown",
   "metadata": {},
   "source": [
    "### Observation for Alloy_2\n",
    "* As the p_value is less than the 0.05, Null Hypothesis is Rejected.\n",
    "* There is difference among the methods on the hardness of dental Impact."
   ]
  },
  {
   "cell_type": "code",
   "execution_count": 66,
   "metadata": {},
   "outputs": [
    {
     "data": {
      "text/plain": [
       "<matplotlib.axes._subplots.AxesSubplot at 0x2caad1b7b48>"
      ]
     },
     "execution_count": 66,
     "metadata": {},
     "output_type": "execute_result"
    },
    {
     "data": {
      "image/png": "[encoded data removed]",
      "text/plain": [
       "<Figure size 432x288 with 1 Axes>"
      ]
     },
     "metadata": {
      "needs_background": "light"
     },
     "output_type": "display_data"
    }
   ],
   "source": [
    "sns.pointplot(df3_alloy2['Method'],df3_alloy2['Response'])"
   ]
  },
  {
   "cell_type": "markdown",
   "metadata": {},
   "source": [
    "## Observations of Alloy_2 Plot\n",
    "* By using ANOVA we cannot say accurately which pair of Methods are different, as ANOVA don't.\n",
    "* As there is a significance dip in between Method 2 and Method 3 can observe some difference."
   ]
  },
  {
   "cell_type": "markdown",
   "metadata": {},
   "source": [
    "# 7.5 Now test whether there is any difference among the temperature levels on the hardness of dental implant, separately for the two types of alloys. What are your conclusions? If the null hypothesis is rejected, is it possible to identify which levels of temperatures differ?\n",
    "## For Alloy 1\n",
    "\n",
    "<br> $H_0$ : There is  no difference among the temparature level on the hardness of dental implant.\n",
    "<br> $H_1$ : There is difference among the temparature levels on the hardness of dental implant."
   ]
  },
  {
   "cell_type": "code",
   "execution_count": 67,
   "metadata": {},
   "outputs": [
    {
     "name": "stdout",
     "output_type": "stream",
     "text": [
      "            df         sum_sq      mean_sq         F    PR(>F)\n",
      "C(Temp)    2.0    4603.511111  2301.755556  0.248536  0.781081\n",
      "Residual  42.0  388973.466667  9261.273016       NaN       NaN\n"
     ]
    }
   ],
   "source": [
    "#alloy_1\n",
    "formula='Response ~ C(Temp)'\n",
    "model = ols(formula,df3_alloy1).fit()\n",
    "aov_table1=anova_lm(model)\n",
    "print(aov_table1)"
   ]
  },
  {
   "cell_type": "markdown",
   "metadata": {},
   "source": [
    "## Observations:\n",
    "* As the p_value is greater than the 0.05, the null hypothesis is failed to reject.\n",
    "* Which tells us, there no mean difference among the temparature levels on the hardness of dental implant.\n",
    "* Therefore, There is no difference among the temparature level on the hardness of dental implant"
   ]
  },
  {
   "cell_type": "code",
   "execution_count": 68,
   "metadata": {},
   "outputs": [
    {
     "data": {
      "image/png": "[encoded data removed]",
      "text/plain": [
       "<Figure size 432x288 with 1 Axes>"
      ]
     },
     "metadata": {
      "needs_background": "light"
     },
     "output_type": "display_data"
    }
   ],
   "source": [
    "sns.pointplot(df3_alloy1['Temp'], df3_alloy1['Response']);"
   ]
  },
  {
   "cell_type": "markdown",
   "metadata": {},
   "source": [
    "## Alloy1_Plot observations\n",
    "* By using ANOVA we cannot say accurately which pair of temparature levels are different, as ANOVA don't.\n",
    "* ANOVA says, there is no mena difference b/w amon the temparatures.\n",
    "<br> If null hypothesis is Rejected,\n",
    "* By using the above plot we can assume which pair of Temparatures are different."
   ]
  },
  {
   "cell_type": "markdown",
   "metadata": {},
   "source": [
    "# For Alloy 2"
   ]
  },
  {
   "cell_type": "markdown",
   "metadata": {},
   "source": [
    "<br> $H_0$ : There is  no difference among the temparature level on the hardness of dental implant.\n",
    "<br> $H_1$ : There is difference among the temparature levels on the hardness of dental implant."
   ]
  },
  {
   "cell_type": "code",
   "execution_count": 69,
   "metadata": {},
   "outputs": [
    {
     "name": "stdout",
     "output_type": "stream",
     "text": [
      "            df         sum_sq       mean_sq         F    PR(>F)\n",
      "C(Temp)    2.0   46205.911111  23102.955556  1.472598  0.240927\n",
      "Residual  42.0  658919.733333  15688.565079       NaN       NaN\n"
     ]
    }
   ],
   "source": [
    "#alloy_2\n",
    "formula='Response ~ C(Temp)'\n",
    "model = ols(formula,df3_alloy2).fit()\n",
    "aov_table1=anova_lm(model)\n",
    "print(aov_table1)\n"
   ]
  },
  {
   "cell_type": "markdown",
   "metadata": {},
   "source": [
    "## Observations:\n",
    "* As the p_value is greater than the 0.05, the null hypothesis is failed to reject.\n",
    "* Which tells us, there no mean difference among the temparature levels on the hardness of dental implant.\n",
    "* Therefore, There is no difference among the temparature level on the hardness of dental implant"
   ]
  },
  {
   "cell_type": "code",
   "execution_count": 70,
   "metadata": {},
   "outputs": [
    {
     "data": {
      "image/png": "[encoded data removed]",
      "text/plain": [
       "<Figure size 432x288 with 1 Axes>"
      ]
     },
     "metadata": {
      "needs_background": "light"
     },
     "output_type": "display_data"
    }
   ],
   "source": [
    "sns.pointplot(df3_alloy2['Temp'], df3_alloy2['Response']);"
   ]
  },
  {
   "cell_type": "markdown",
   "metadata": {},
   "source": [
    "## Alloy2_Plot observations\n",
    "* By using ANOVA we cannot say accurately which pair of temparature levels are different, as ANOVA don't.\n",
    "* ANOVA says, there is no mena difference b/w amon the temparatures.\n",
    "<br><br> If null hypothesis is Rejected,\n",
    "* By using the above plot we can assume which pair of Temparatures are different."
   ]
  },
  {
   "cell_type": "markdown",
   "metadata": {},
   "source": [
    "# 7.6  Consider the interaction effect of dentist and method and comment on the interaction plot, separately for the two types of alloys?"
   ]
  },
  {
   "cell_type": "markdown",
   "metadata": {},
   "source": [
    "# For Alloy 1\n",
    "\n",
    "Let's see the interaction between the dentist and method using the graph"
   ]
  },
  {
   "cell_type": "code",
   "execution_count": 71,
   "metadata": {},
   "outputs": [
    {
     "data": {
      "image/png": "[encoded data removed]",
      "text/plain": [
       "<Figure size 432x288 with 1 Axes>"
      ]
     },
     "metadata": {
      "needs_background": "light"
     },
     "output_type": "display_data"
    }
   ],
   "source": [
    "sns.pointplot(x='Dentist', y='Response', data=df3_alloy1, hue='Method',ci=None);"
   ]
  },
  {
   "cell_type": "markdown",
   "metadata": {},
   "source": [
    "We can see some interaction between the Dentists and method in the above plot."
   ]
  },
  {
   "cell_type": "markdown",
   "metadata": {},
   "source": [
    "# For Alloy 2"
   ]
  },
  {
   "cell_type": "code",
   "execution_count": 72,
   "metadata": {},
   "outputs": [
    {
     "data": {
      "image/png": "[encoded data removed]",
      "text/plain": [
       "<Figure size 432x288 with 1 Axes>"
      ]
     },
     "metadata": {
      "needs_background": "light"
     },
     "output_type": "display_data"
    }
   ],
   "source": [
    "sns.pointplot(x='Dentist', y='Response', data=df3_alloy2, hue='Method',ci=None);"
   ]
  },
  {
   "cell_type": "markdown",
   "metadata": {},
   "source": [
    "We can see some interaction between the Dentists and method for 1 and 2 methods in the above plot."
   ]
  },
  {
   "cell_type": "markdown",
   "metadata": {},
   "source": [
    "# 7.7 Now consider the effect of both factors, dentist, and method, separately on each alloy. What do you conclude? Is it possible to identify which dentists are different, which methods are different, and which interaction levels are different?"
   ]
  },
  {
   "cell_type": "code",
   "execution_count": 73,
   "metadata": {},
   "outputs": [
    {
     "name": "stdout",
     "output_type": "stream",
     "text": [
      "                        df         sum_sq       mean_sq         F    PR(>F)\n",
      "C(Dentist)             4.0   66319.422222  16579.855556  3.539108  0.017620\n",
      "C(Method)              2.0   83943.644444  41971.822222  8.959234  0.000890\n",
      "C(Dentist):C(Method)   8.0  102771.244444  12846.405556  2.742172  0.021263\n",
      "Residual              30.0  140542.666667   4684.755556       NaN       NaN\n"
     ]
    }
   ],
   "source": [
    "#alloy_1\n",
    "formula='Response ~ C(Dentist) + C(Method) + C(Dentist):C(Method)'\n",
    "model = ols(formula,df3_alloy1).fit()\n",
    "aov_table1=anova_lm(model)\n",
    "print(aov_table1)"
   ]
  },
  {
   "cell_type": "markdown",
   "metadata": {},
   "source": [
    "## Conclusion\n",
    "**For alloy 1**\n",
    "* The P_value for Dentist and Method are less than 0.05 (level of significance), which makes null hypothesis is rejected.\n",
    "* There is a change in the p-value  due to interaction.\n",
    "* There is not much difference in between the groups and and among the groups as per F_value of interaction.\n",
    "<br>As Null Hypothesis Rejected,\n",
    "* ANOVA canot say, which pair of dentists or methods or interactions are different.\n",
    "* As per the Point plot, we can assume by observing a significant dip in between 3 and 4 dentists for method 3. The dip between 3 and 4  dentists indicates some differ for Method 3 of implant hardness.\n",
    "* There is no difference in interaction between any of the methods as per point plot."
   ]
  },
  {
   "cell_type": "code",
   "execution_count": 74,
   "metadata": {},
   "outputs": [
    {
     "name": "stdout",
     "output_type": "stream",
     "text": [
      "                        df         sum_sq        mean_sq          F    PR(>F)\n",
      "C(Dentist)             4.0   20704.977778    5176.244444   0.678500  0.612236\n",
      "C(Method)              2.0  344333.644444  172166.822222  22.567548  0.000001\n",
      "C(Dentist):C(Method)   8.0  111218.355556   13902.294444   1.822306  0.111831\n",
      "Residual              30.0  228868.666667    7628.955556        NaN       NaN\n"
     ]
    }
   ],
   "source": [
    "#alloy_2\n",
    "formula='Response ~ C(Dentist) + C(Method) + C(Dentist):C(Method)'\n",
    "model = ols(formula,df3_alloy2).fit()\n",
    "aov_table1=anova_lm(model)\n",
    "print(aov_table1)"
   ]
  },
  {
   "cell_type": "markdown",
   "metadata": {},
   "source": [
    "## Conclusion\n",
    "**For alloy 2**\n",
    "* The P_value for Dentist is Greater than 0.05 (level of significance), which makes null hypothesis is failed to reject.\n",
    "* There is a change in the p-value  due to interaction.\n",
    "* There is not much difference in between the groups and and among the groups as per F_value of interaction.\n",
    "<br>If Null Hypothes is Rejected,\n",
    "* ANOVA canot say, which pair of dentists or methods or interactions are different.\n",
    "* As per the Point plot, we can assume by observing a significant dip in between 4 and 5 dentists for method 3. The dip between 3 and 4  dentists indicates some difference for Method 3 of implant hardness.\n",
    "* There is a difference in interaction Method 3.."
   ]
  },
  {
   "cell_type": "markdown",
   "metadata": {},
   "source": []
  }
 ],
 "metadata": {
  "kernelspec": {
   "display_name": "Python 3.7.5 64-bit",
   "language": "python",
   "name": "python3"
  },
  "language_info": {
   "codemirror_mode": {
    "name": "ipython",
    "version": 3
   },
   "file_extension": ".py",
   "mimetype": "text/x-python",
   "name": "python",
   "nbconvert_exporter": "python",
   "pygments_lexer": "ipython3",
   "version": "3.7.5"
  },
  "orig_nbformat": 4,
  "vscode": {
   "interpreter": {
    "hash": "622d522d36f092a5d5927cb518249bc7a05b72f6ef172baeb8c67629fa0205c9"
   }
  }
 },
 "nbformat": 4,
 "nbformat_minor": 2
}
